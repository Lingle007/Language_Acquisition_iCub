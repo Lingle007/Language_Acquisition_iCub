{
 "cells": [
  {
   "cell_type": "code",
   "execution_count": 3,
   "metadata": {
    "collapsed": false
   },
   "outputs": [],
   "source": [
    "import numpy as np;\n",
    "import itertools;\n",
    "\n",
    "#from sklearn import mixture;\n",
    "from scipy import linalg;\n",
    "import matplotlib.pyplot as plt;\n",
    "import matplotlib as mpl;"
   ]
  },
  {
   "cell_type": "code",
   "execution_count": null,
   "metadata": {
    "collapsed": true
   },
   "outputs": [],
   "source": [
    "# number of mixtures equal the number of classes for each feature;\n",
    "# [colour], [size], [shape];\n",
    "n_components = [[5], [3], [10]];\n",
    "\n",
    "# Fit a Gaussian Mixture Model with Expectation-Maximization:\n",
    "gmm = mixture.GaussianMixture(n_components = n_components[i], covariance_type = ?);\n",
    "# data_matrix [n_samples, n_features];\n",
    "# in the case of colour feature, data_matrix will be [n_training, 5];\n",
    "gmm.fix(data_matrix);\n",
    "# Compute the per-sample average log-likelihhod og th given data X;\n",
    "# I think this return a [n_training]\n",
    "log_likelihoods = gmm.score(X);"
   ]
  }
 ],
 "metadata": {
  "kernelspec": {
   "display_name": "Python 3",
   "language": "python",
   "name": "python3"
  },
  "language_info": {
   "codemirror_mode": {
    "name": "ipython",
    "version": 3
   },
   "file_extension": ".py",
   "mimetype": "text/x-python",
   "name": "python",
   "nbconvert_exporter": "python",
   "pygments_lexer": "ipython3",
   "version": "3.5.1"
  }
 },
 "nbformat": 4,
 "nbformat_minor": 0
}
